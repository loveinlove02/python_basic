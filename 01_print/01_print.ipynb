{
 "cells": [
  {
   "cell_type": "markdown",
   "metadata": {},
   "source": [
    "## 1. print\n",
    "\n",
    "<img src=\"./image/01_print.png\"/>"
   ]
  },
  {
   "cell_type": "code",
   "execution_count": 1,
   "metadata": {},
   "outputs": [
    {
     "name": "stdout",
     "output_type": "stream",
     "text": [
      "123\n"
     ]
    }
   ],
   "source": [
    "# 숫자를 출력 : int\n",
    "print(123)    "
   ]
  },
  {
   "cell_type": "code",
   "execution_count": 2,
   "metadata": {},
   "outputs": [
    {
     "name": "stdout",
     "output_type": "stream",
     "text": [
      "1.23\n"
     ]
    }
   ],
   "source": [
    "# 숫자를 출력 : float\n",
    "print(1.23)"
   ]
  },
  {
   "cell_type": "code",
   "execution_count": 3,
   "metadata": {},
   "outputs": [
    {
     "name": "stdout",
     "output_type": "stream",
     "text": [
      "안녕하세요.\n",
      "hello world\n"
     ]
    }
   ],
   "source": [
    "# 문자열 출력하기. 글자를 출력할 때는 '' 따옴표 또는 \"\" 사이에 적는다.\n",
    "print('안녕하세요.')\n",
    "print(\"hello world\") "
   ]
  },
  {
   "cell_type": "code",
   "execution_count": 4,
   "metadata": {},
   "outputs": [
    {
     "name": "stdout",
     "output_type": "stream",
     "text": [
      "123\n",
      "1.23\n"
     ]
    }
   ],
   "source": [
    "# 숫자를 따옴표 안에 적으면 글자(str)로 취급\n",
    "print('123')\n",
    "print('1.23')"
   ]
  },
  {
   "cell_type": "code",
   "execution_count": 5,
   "metadata": {},
   "outputs": [
    {
     "name": "stdout",
     "output_type": "stream",
     "text": [
      "100 200 300\n",
      "100 1.23 hello\n"
     ]
    }
   ],
   "source": [
    "# 한 줄에 출력할 때 \n",
    "print(100, 200, 300)\n",
    "print(100, 1.23, 'hello')"
   ]
  },
  {
   "cell_type": "code",
   "execution_count": 6,
   "metadata": {},
   "outputs": [
    {
     "name": "stdout",
     "output_type": "stream",
     "text": [
      "123\n"
     ]
    }
   ],
   "source": [
    "# 주석 : 메모하는 용도. 코드를 설명하는 설명문\n",
    "# 주석은 코드로 인식되지 않는다\n",
    "\n",
    "print('123')\n",
    "# print('hello')   # 이 부분은 화면에 출력되지 않는다. "
   ]
  },
  {
   "cell_type": "code",
   "execution_count": 7,
   "metadata": {},
   "outputs": [
    {
     "name": "stdout",
     "output_type": "stream",
     "text": [
      "1.23\n",
      "안녕하세요\n",
      "100\n"
     ]
    }
   ],
   "source": [
    "# 여러 줄 주석은 '''따옴표 3개 안에 넣는다.\n",
    "'''\n",
    "print(100)\n",
    "print('1.23')\n",
    "print('안녕하세요')\n",
    "print(100)\n",
    "'''\n",
    "print('1.23')\n",
    "print('안녕하세요')\n",
    "print(100)"
   ]
  }
 ],
 "metadata": {
  "kernelspec": {
   "display_name": "venv",
   "language": "python",
   "name": "python3"
  },
  "language_info": {
   "codemirror_mode": {
    "name": "ipython",
    "version": 3
   },
   "file_extension": ".py",
   "mimetype": "text/x-python",
   "name": "python",
   "nbconvert_exporter": "python",
   "pygments_lexer": "ipython3",
   "version": "3.11.9"
  }
 },
 "nbformat": 4,
 "nbformat_minor": 2
}

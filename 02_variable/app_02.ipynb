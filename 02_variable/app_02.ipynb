{
 "cells": [
  {
   "cell_type": "markdown",
   "metadata": {},
   "source": [
    "# **2. 변수와 자료형**\n",
    "\n",
    "<br>\n",
    "\n",
    "<img src=\"./image/01_변수.png\"/>"
   ]
  },
  {
   "cell_type": "code",
   "execution_count": 1,
   "metadata": {},
   "outputs": [
    {
     "name": "stdout",
     "output_type": "stream",
     "text": [
      "10\n",
      "1.23\n",
      "hello\n"
     ]
    }
   ],
   "source": [
    "# 변수와 출력\n",
    "a = 10        \n",
    "b = 1.23      \n",
    "c = 'hello'  \n",
    "\n",
    "print(a)\n",
    "print(b)\n",
    "print(c)"
   ]
  },
  {
   "cell_type": "code",
   "execution_count": 2,
   "metadata": {},
   "outputs": [
    {
     "name": "stdout",
     "output_type": "stream",
     "text": [
      "10 1.23 hello\n"
     ]
    }
   ],
   "source": [
    "a = 10\n",
    "b = 1.23\n",
    "c = 'hello'\n",
    "\n",
    "print(a, b, c)"
   ]
  },
  {
   "cell_type": "code",
   "execution_count": 3,
   "metadata": {},
   "outputs": [
    {
     "name": "stdout",
     "output_type": "stream",
     "text": [
      "10\n",
      "1.23\n",
      "hello\n"
     ]
    }
   ],
   "source": [
    "a = 10\n",
    "b = 1.23\n",
    "c = 'hello'\n",
    "\n",
    "print(f'{a}')\n",
    "print(f'{b}')\n",
    "print(f'{c}')"
   ]
  },
  {
   "cell_type": "code",
   "execution_count": 4,
   "metadata": {},
   "outputs": [
    {
     "name": "stdout",
     "output_type": "stream",
     "text": [
      "10 1.23 hello\n"
     ]
    }
   ],
   "source": [
    "a = 10\n",
    "b = 1.23\n",
    "c = 'hello'\n",
    "\n",
    "print(f'{a} {b} {c}')"
   ]
  },
  {
   "cell_type": "code",
   "execution_count": 5,
   "metadata": {},
   "outputs": [
    {
     "name": "stdout",
     "output_type": "stream",
     "text": [
      "a는 10입니다\n",
      "b는 1.23입니다\n",
      "c는 hello입니다\n"
     ]
    }
   ],
   "source": [
    "a = 10\n",
    "b = 1.23\n",
    "c = 'hello'\n",
    "\n",
    "print(f'a는 {a}입니다')\n",
    "print(f'b는 {b}입니다')\n",
    "print(f'c는 {c}입니다')"
   ]
  },
  {
   "cell_type": "code",
   "execution_count": 7,
   "metadata": {},
   "outputs": [
    {
     "name": "stdout",
     "output_type": "stream",
     "text": [
      "1.23\n"
     ]
    }
   ],
   "source": [
    "a = 1.234\n",
    "print(f'{a:.2f}')   # 소수 2번째 자리"
   ]
  }
 ],
 "metadata": {
  "kernelspec": {
   "display_name": "venv",
   "language": "python",
   "name": "python3"
  },
  "language_info": {
   "codemirror_mode": {
    "name": "ipython",
    "version": 3
   },
   "file_extension": ".py",
   "mimetype": "text/x-python",
   "name": "python",
   "nbconvert_exporter": "python",
   "pygments_lexer": "ipython3",
   "version": "3.11.9"
  }
 },
 "nbformat": 4,
 "nbformat_minor": 2
}

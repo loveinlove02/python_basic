{
 "cells": [
  {
   "cell_type": "markdown",
   "metadata": {},
   "source": [
    "# **3. 입력**\n",
    "\n",
    "<br>\n",
    "\n",
    "<img src=\"./image/01_input.PNG\"/>"
   ]
  },
  {
   "cell_type": "markdown",
   "metadata": {},
   "source": [
    "### **1. 문자열(str) 입력**"
   ]
  },
  {
   "cell_type": "code",
   "execution_count": 1,
   "metadata": {},
   "outputs": [
    {
     "name": "stdout",
     "output_type": "stream",
     "text": [
      "안녕하세요\n"
     ]
    }
   ],
   "source": [
    "# 문자열 입력\n",
    "a = input()     # 안녕하세요\n",
    "print(a)"
   ]
  },
  {
   "cell_type": "code",
   "execution_count": 2,
   "metadata": {},
   "outputs": [
    {
     "name": "stdout",
     "output_type": "stream",
     "text": [
      "멜론\n"
     ]
    }
   ],
   "source": [
    "# 문자열 입력\n",
    "a = input('입력: ')     # 멜론\n",
    "print(a)"
   ]
  },
  {
   "cell_type": "code",
   "execution_count": 3,
   "metadata": {},
   "outputs": [
    {
     "name": "stdout",
     "output_type": "stream",
     "text": [
      "멜론\n",
      "<class 'str'>\n"
     ]
    }
   ],
   "source": [
    "# 문자열 입력\n",
    "a = input('이름: ')   # 멜론\n",
    "print(a)\n",
    "print(type(a))        # 타입확인"
   ]
  },
  {
   "cell_type": "code",
   "execution_count": 4,
   "metadata": {},
   "outputs": [
    {
     "name": "stdout",
     "output_type": "stream",
     "text": [
      "10\n",
      "<class 'str'>\n"
     ]
    }
   ],
   "source": [
    "# 문자열 입력\n",
    "b = input('숫자: ')   # 10\n",
    "print(b)\n",
    "print(type(b))        # 타입확인"
   ]
  },
  {
   "cell_type": "markdown",
   "metadata": {},
   "source": [
    "파이썬에는 기본적으로 자료형을 숫자로 변환해주는 내장함수가 있습니다. 이 함수들은 자료형과 똑같은 이름의 함수입니다. \n",
    "<br>\n",
    "\n",
    "다음 그림은 int가 아닌 자료형을 인자로 넣으면 int 자료형을 바꿔서 반환하는 int() 내장함수입니다. \n",
    "\n",
    "<br>\n",
    "\n",
    "<img src=\"./image/02_input.png\"/>"
   ]
  },
  {
   "cell_type": "markdown",
   "metadata": {},
   "source": [
    "### **2. 숫자(int) 입력**\n",
    "\n",
    "<br>\n",
    "\n",
    "<img src=\"./image/03_input.png\"/>"
   ]
  },
  {
   "cell_type": "code",
   "execution_count": 5,
   "metadata": {},
   "outputs": [
    {
     "name": "stdout",
     "output_type": "stream",
     "text": [
      "a: 10\n",
      "a: 10\n"
     ]
    }
   ],
   "source": [
    "# 문자열을 입력받아서 숫자(int)로 변경하기\n",
    "a = input()     # 10\n",
    "a = int(a)\n",
    "\n",
    "print('a:', a)\n",
    "print(f'a: {a}')"
   ]
  },
  {
   "cell_type": "code",
   "execution_count": 6,
   "metadata": {},
   "outputs": [
    {
     "name": "stdout",
     "output_type": "stream",
     "text": [
      "a는 10 입니다\n",
      "a는 10입니다\n"
     ]
    }
   ],
   "source": [
    "# 문자열을 입력받아서 숫자(int)로 변경하기\n",
    "a = input('숫자: ')         # 10\n",
    "a = int(a)\n",
    "\n",
    "print('a는', a, '입니다')\n",
    "print(f'a는 {a}입니다')"
   ]
  },
  {
   "cell_type": "markdown",
   "metadata": {},
   "source": [
    "<img src=\"./image/04_input.PNG\"/>"
   ]
  },
  {
   "cell_type": "code",
   "execution_count": 7,
   "metadata": {},
   "outputs": [
    {
     "name": "stdout",
     "output_type": "stream",
     "text": [
      "a는 10 입니다\n",
      "a는 10입니다\n"
     ]
    }
   ],
   "source": [
    "# 문자열을 입력받아서 숫자(int)로 변경하기\n",
    "a = int(input())\n",
    "# a = int(input('숫자: '))\n",
    "\n",
    "print('a는', a, '입니다')\n",
    "print(f'a는 {a}입니다')"
   ]
  },
  {
   "cell_type": "markdown",
   "metadata": {},
   "source": [
    "### 3. 숫자(float) 입력"
   ]
  },
  {
   "cell_type": "code",
   "execution_count": 8,
   "metadata": {},
   "outputs": [
    {
     "name": "stdout",
     "output_type": "stream",
     "text": [
      "a는 1.2 입니다\n",
      "a는 1.2입니다\n"
     ]
    }
   ],
   "source": [
    "# 숫자(float) 입력\n",
    "a = float(input()) # 1.2\n",
    "# a = float(input('숫자: '))\n",
    "\n",
    "print('a는', a, '입니다')\n",
    "print(f'a는 {a}입니다')"
   ]
  },
  {
   "cell_type": "code",
   "execution_count": 9,
   "metadata": {},
   "outputs": [
    {
     "name": "stdout",
     "output_type": "stream",
     "text": [
      "a는 1.20입니다\n"
     ]
    }
   ],
   "source": [
    "# 숫자(float) 입력\n",
    "a = float(input())\n",
    "\n",
    "print(f'a는 {a:.2f}입니다')"
   ]
  },
  {
   "cell_type": "markdown",
   "metadata": {},
   "source": [
    "### 4. 한 줄에 여러 개 입력\n",
    "\n",
    "<br>\n",
    "\n",
    "<img src=\"./image/05_input.PNG\"/>\n",
    "\n",
    "<br>\n",
    "<br>\n",
    "\n",
    "input()을 통해 한 줄에 여러 개의 숫자를 입력받으면 이 숫자들을 분리해야 합니다. <br>\n",
    "2개의 값을 공백으로 구분하여 입력합니다. split()은 입력받은 값을 각각 변수 a, b에 str 형태로 대입합니다. \n",
    "<br>\n",
    "<br>\n",
    "\n",
    "<img src=\"./image/06_input.PNG\"/>  <br>\n",
    "<br>\n",
    "\n",
    "<img src=\"./image/07_input.PNG\"/>  <br>\n",
    "<br>\n",
    "\n",
    "변수 a, b에 저장된 데이터의 자료형은 str 입니다. 따라서 정수 자료형으로 사용하기 위해서는 int() 함수를 적용시켜 정수 자료형으로 변경해준 뒤 다시 변수 a, b에 차례대로 대입합니다."
   ]
  },
  {
   "cell_type": "code",
   "execution_count": 10,
   "metadata": {},
   "outputs": [
    {
     "name": "stdout",
     "output_type": "stream",
     "text": [
      "a: 10\n",
      "b: 20\n"
     ]
    }
   ],
   "source": [
    "# 한 줄에 여러 개의 데이터를 입력받아서 숫자(int)로 변경하기\n",
    "a, b = input('숫자 입력: ').split() # 10 20\n",
    "a = int(a)    # int() 함수 적용\n",
    "b = int(b)    # int() 함수 적용\n",
    "\n",
    "print('a:', a)\n",
    "print('b:', b)"
   ]
  },
  {
   "cell_type": "markdown",
   "metadata": {},
   "source": [
    "<img src=\"./image/08_input.PNG\"/>  <br>"
   ]
  },
  {
   "cell_type": "code",
   "execution_count": 11,
   "metadata": {},
   "outputs": [
    {
     "name": "stdout",
     "output_type": "stream",
     "text": [
      "a: 10\n",
      "b: 20\n"
     ]
    }
   ],
   "source": [
    "# 한 줄에 여러 개의 데이터를 입력받아서 숫자(int)로 변경하기\n",
    "a, b = map(int, input().split())\n",
    "\n",
    "print('a:', a)\n",
    "print('b:', b)"
   ]
  }
 ],
 "metadata": {
  "kernelspec": {
   "display_name": "venv",
   "language": "python",
   "name": "python3"
  },
  "language_info": {
   "codemirror_mode": {
    "name": "ipython",
    "version": 3
   },
   "file_extension": ".py",
   "mimetype": "text/x-python",
   "name": "python",
   "nbconvert_exporter": "python",
   "pygments_lexer": "ipython3",
   "version": "3.11.9"
  }
 },
 "nbformat": 4,
 "nbformat_minor": 2
}

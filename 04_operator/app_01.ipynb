{
 "cells": [
  {
   "cell_type": "markdown",
   "metadata": {},
   "source": [
    "# **4. 연산자**"
   ]
  },
  {
   "cell_type": "markdown",
   "metadata": {},
   "source": [
    "### 1. 산술연산자\n",
    "\n",
    "산술 연산자는 c = a+b와 같이 계산식으로 표현해서 계산 결과를 돌려주는 연산자입니다. <br>\n",
    "기본 사칙연산과 나눈 후 나머지를 찾는 % 연산, 제곱수를 구하는 ** 연산 등 다양한 연산 기호를 사용할 수 있습니다.\n",
    "\n",
    "<br>\n",
    "\n",
    "<img src=\"./image/01_연산자.PNG\"/>  <br>\n",
    "\n",
    "<br>\n",
    "\n",
    "파이썬에서 곱셈의 기호는 *이고, 나눗셈의 몫을 구하는 기호는 / 와 //입니다.       <br>\n",
    "/ 는 소수 이하까지의 몫을 돌려주고, // 는 소수 이하를 모두 버린 몫을 돌려줍니다. <br>\n",
    "<br>\n",
    "\n",
    "<img src=\"./image/02_연산자.PNG\"/> \n",
    "\n",
    "<br>\n",
    "\n",
    "** 연산자는 제곱의 결과를 돌려줍니다. 3**3는 33을 계산합니다."
   ]
  },
  {
   "cell_type": "code",
   "execution_count": 1,
   "metadata": {},
   "outputs": [
    {
     "name": "stdout",
     "output_type": "stream",
     "text": [
      "15\n",
      "5\n",
      "50\n",
      "2.0\n",
      "2\n",
      "0\n",
      "100000\n"
     ]
    }
   ],
   "source": [
    "# 산술연산자\n",
    "a=10\n",
    "b=5\n",
    "\n",
    "print(a+b)      \n",
    "print(a-b)       \n",
    "print(a*b)\n",
    "print(a/b)\n",
    "print(a//b)\n",
    "print(a%b)\n",
    "print(a**b)"
   ]
  },
  {
   "cell_type": "markdown",
   "metadata": {},
   "source": [
    "### 2. 관계연산자\n",
    "\n",
    "관계 연산자(비교 연산자)는 변수에 저장된 데이터 또는 숫자 등의 대소 관계를 비교해서 참/거짓을 표현합니다. <br>\n",
    "연산의 결과는 True(참) 또는 False(거짓)입니다. \n",
    "\n",
    "<br>\n",
    "\n",
    "<img src=\"./image/03_연산자.PNG\"/>  <br>"
   ]
  },
  {
   "cell_type": "code",
   "execution_count": 2,
   "metadata": {},
   "outputs": [
    {
     "name": "stdout",
     "output_type": "stream",
     "text": [
      "True\n",
      "True\n",
      "False\n",
      "False\n",
      "False\n",
      "True\n"
     ]
    }
   ],
   "source": [
    "# 관계연산자\n",
    "a=10\n",
    "b=5\n",
    "\n",
    "print(a > b)\n",
    "print(a >= b)\n",
    "print(a < b)\n",
    "print(a <= b)\n",
    "print(a == b)\n",
    "print(a != b)"
   ]
  },
  {
   "cell_type": "markdown",
   "metadata": {},
   "source": [
    "### 3. 논리연산자\n",
    "\n",
    "논리 연산자는 여러 조건을 조합해서 True/False의 논리적인 결과를 확인합니다.  <br>\n",
    "\n",
    "<br>\n",
    "\n",
    "<img src=\"./image/04_연산자.PNG\"/>  <br>"
   ]
  },
  {
   "cell_type": "code",
   "execution_count": 3,
   "metadata": {},
   "outputs": [
    {
     "name": "stdout",
     "output_type": "stream",
     "text": [
      "True\n",
      "False\n",
      "True\n",
      "False\n",
      "False\n",
      "True\n"
     ]
    }
   ],
   "source": [
    "# 논리연산자\n",
    "a = 10\n",
    "b = 5\n",
    "c = 0\n",
    "\n",
    "print(a>9 and b==5)     \n",
    "print(a>10 and b==5)\n",
    "print(a>10 or b==5)\n",
    "print(a>10 or b>5)\n",
    "print(not a)\n",
    "print(not c)"
   ]
  }
 ],
 "metadata": {
  "kernelspec": {
   "display_name": "venv",
   "language": "python",
   "name": "python3"
  },
  "language_info": {
   "codemirror_mode": {
    "name": "ipython",
    "version": 3
   },
   "file_extension": ".py",
   "mimetype": "text/x-python",
   "name": "python",
   "nbconvert_exporter": "python",
   "pygments_lexer": "ipython3",
   "version": "3.11.9"
  }
 },
 "nbformat": 4,
 "nbformat_minor": 2
}

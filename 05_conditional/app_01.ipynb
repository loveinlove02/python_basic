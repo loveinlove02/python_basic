{
 "cells": [
  {
   "cell_type": "markdown",
   "metadata": {},
   "source": [
    "# **5. 조건문**"
   ]
  },
  {
   "cell_type": "markdown",
   "metadata": {},
   "source": [
    "\n",
    "조건이 참이면 실행하고, 거짓일 경우 실행하지 않습니다. <br>\n",
    "\n",
    "<br>\n",
    "\n",
    "<img src=\"./image/01_조건문.PNG\"/>  <br>\n",
    "<br>\n",
    "\n",
    "if문은 특정 조건으로 실행코드들을 나누어 코드의 분기를 만들어줍니다. <br>\n",
    "사용하는 방법은 위와 같이 if문에 조건과 실행 코드를 적었을 때 조건이 참일 경우에만 포함된 코드를 실행시켜줍니다.<br>\n",
    "조건은 참, 거짓으로 표현할 수 있어야하며 실행 코드의 포함 관계는 들여쓰기로 나타낼 수 있습니다."
   ]
  },
  {
   "cell_type": "code",
   "execution_count": 3,
   "metadata": {},
   "outputs": [
    {
     "name": "stdout",
     "output_type": "stream",
     "text": [
      "-1\n",
      "음수입니다.\n"
     ]
    }
   ],
   "source": [
    "num = int(input('숫자: '))  # -1\n",
    "\n",
    "if num<0:\n",
    "    print(num)\n",
    "    print('음수입니다.')"
   ]
  },
  {
   "cell_type": "markdown",
   "metadata": {},
   "source": [
    "\n",
    "if와 else가 함께 있는 형태입니다. if의 조건이 참이면 if 안의 코드를 실행하고, 거짓일 경우 else의 코드를 실행합니다.\n",
    "\n",
    "<br>\n",
    "\n",
    "<img src=\"./image/02_조건문.PNG\"/>  <br>\n",
    "<br>\n",
    "\n",
    "if문에서 조건이 거짓일 경우에도 실행 코드를 추가하고 싶다면 else를 추가해야합니다. <br> \n",
    "else는 단독으로는 사용할 수 없으며 if문의 가장 마지막에 하나만 추가할 수 있습니다. <br>\n",
    "if문의 조건이 거짓일 때 사용되기 때문에 else문에서는 조건을 따로 작성하지 않습니다.<br>\n",
    "위 코드와 같이 if문과 else문에 실행 코드1, 실행 코드2를 넣으면 조건이 참일 경우 실행 코드1, 거짓일 경우 실행 코드2를 실행합니다. "
   ]
  },
  {
   "cell_type": "code",
   "execution_count": 4,
   "metadata": {},
   "outputs": [
    {
     "name": "stdout",
     "output_type": "stream",
     "text": [
      "합격입니다.\n"
     ]
    }
   ],
   "source": [
    "score = int(input('점수: '))    # 98\n",
    "\n",
    "if score>=80:\n",
    "    print('합격입니다.')\n",
    "else:\n",
    "    print('불합격입니다.')"
   ]
  },
  {
   "cell_type": "code",
   "execution_count": 5,
   "metadata": {},
   "outputs": [
    {
     "name": "stdout",
     "output_type": "stream",
     "text": [
      "짝수\n"
     ]
    }
   ],
   "source": [
    "num = int(input())  # 2\n",
    "\n",
    "if num%2==0:\n",
    "    print('짝수')\n",
    "else:\n",
    "    print('홀수')"
   ]
  },
  {
   "cell_type": "markdown",
   "metadata": {},
   "source": [
    "if문의 중간에 여러 조건을 더 추가하고 싶을 때 if ~ elif ~ else를 사용합니다. <br>\n",
    "if의 조건이 참이면 if 안의 코드를 실행하고, 거짓일 경우 elif의 조건을 판단합니다. <br>\n",
    "elif는 if와 else의 사이에 추가할 수 있으며 원하는 개수만큼 추가가 가능합니다. <br>\n",
    "elif 의 조건이 참이면 elif의 코드를 실행하고 거짓이면 else의 코드를 실행합니다. \n",
    "\n",
    "<br>\n",
    "\n",
    "<img src=\"./image/03_조건문.PNG\"/>  <br>\n",
    "<br>\n",
    "\n",
    "위의 예시와 같이 if ~ elif ~ else로 이어지는 문장이 있다면 조건1을 만족하였을 경우에는 실행 코드1, 조건2를 만족하는 경우 실행 코드2, 모든 조건이 거짓일 경우에는 실행 코드3을 실행합니다.\n",
    "\n",
    "<br>\n",
    "\n",
    "\n",
    "다음 예제는 0~100점 사이의 점수를 입력받아서 성적을 출력하는 예제입니다.\n",
    "<br>\n",
    "\n",
    "조건은 점수가 90점 이상 A, 80점 이상 90점미만 B, 70점 이상 80점미만 C, 60점 이상 70점미만 D, 0점 이상 60점미만은 F입니다."
   ]
  },
  {
   "cell_type": "code",
   "execution_count": 6,
   "metadata": {},
   "outputs": [
    {
     "name": "stdout",
     "output_type": "stream",
     "text": [
      "A\n"
     ]
    }
   ],
   "source": [
    "score = int(input('점수를 입력하세요(0~100): '))\n",
    "\n",
    "if 90 <= score <=100:\n",
    "    print('A')\n",
    "elif 80 <= score <90:\n",
    "    print('B')\n",
    "elif 70 <= score <80:\n",
    "    print('C')\n",
    "elif 60 <= score <70:\n",
    "    print('D')    \n",
    "elif 0 <= score <60:\n",
    "    print('F')\n",
    "else:\n",
    "    print('점수의 범위는 0~100점입니다.')"
   ]
  }
 ],
 "metadata": {
  "kernelspec": {
   "display_name": "venv",
   "language": "python",
   "name": "python3"
  },
  "language_info": {
   "codemirror_mode": {
    "name": "ipython",
    "version": 3
   },
   "file_extension": ".py",
   "mimetype": "text/x-python",
   "name": "python",
   "nbconvert_exporter": "python",
   "pygments_lexer": "ipython3",
   "version": "3.11.9"
  }
 },
 "nbformat": 4,
 "nbformat_minor": 2
}

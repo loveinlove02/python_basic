{
 "cells": [
  {
   "cell_type": "markdown",
   "metadata": {},
   "source": [
    "# **7. str**"
   ]
  },
  {
   "cell_type": "markdown",
   "metadata": {},
   "source": [
    "## 1. 인덱스\n",
    "\n",
    "파이썬에서 문자열형(str)에 인덱스 번호가 가지고 있습니다. <br>\n",
    "만약 아래와 같이 text 변수에 ‘abc’ 3글자의 문자가 들어있다면 가장 앞쪽에서부터 0번, 1번, 2번의 인덱스를 가집니다. <br>\n",
    "이 인덱스는 음수의 값으로도 활용할 수 있는데 음수의 인덱스 값은 맨 뒤에서부터 –1을 시작으로 앞으로 올수록 –1씩 감소하며 번호가 부여됩니다.\n",
    "\n",
    "<br>\n",
    "\n",
    "<img src=\"./image/01_문자열.PNG\"/>  <br>\n",
    "<br>"
   ]
  },
  {
   "cell_type": "markdown",
   "metadata": {},
   "source": [
    "### 1) 양수 인덱스\n",
    "\n",
    "- 0부터 시작합니다.\n",
    "\n",
    "양수 인덱스는 0부터 시작하여 1씩 증가하여 부여됩니다. <br>\n",
    "인덱스를 사용하는 방법은 대괄호[]를 사용하여 인덱스 번호를 적으면 해당 번호의 글자가 호출됩니다. <br>\n",
    "예제와 같이 3개의 print를 사용하여 text[0], text[1], text[2]를 차례대로 출력했을 때 text에 들어있던 ‘abc’ 글자가 한 글자씩 출력됩니다. <br>"
   ]
  },
  {
   "cell_type": "code",
   "execution_count": 1,
   "metadata": {},
   "outputs": [
    {
     "name": "stdout",
     "output_type": "stream",
     "text": [
      "a\n",
      "b\n",
      "c\n"
     ]
    }
   ],
   "source": [
    "# 문자열 출력\n",
    "text = 'abc'\n",
    "\n",
    "print(text[0])\n",
    "print(text[1])\n",
    "print(text[2])"
   ]
  },
  {
   "cell_type": "markdown",
   "metadata": {},
   "source": [
    "### 2) 음수 인덱스\n",
    "\n",
    "- 마지막이 –1부터 시작합니다.\n",
    "\n",
    "음수 인덱스는 텍스트의 길이가 n이라면 –n부터 시작하여 1씩 증가하여 부여됩니다. <br>\n",
    "현재 text변수에 ‘abc’ 3글자가 있으므로 음수 인덱스의 번호는 앞에서부터 –3, -2, -1이고 양수 인덱스의 0, 1, 2와 각각 같은 글자를 의미합니다. <br> 때문에 3개의 print에 text[-3], text[-2], text[-1]를 차례대로 출력하면 ‘a’, ‘b’, ‘c’가 하나씩 출력됩니다. <br>"
   ]
  },
  {
   "cell_type": "code",
   "execution_count": 3,
   "metadata": {},
   "outputs": [
    {
     "name": "stdout",
     "output_type": "stream",
     "text": [
      "a\n",
      "b\n",
      "c\n"
     ]
    }
   ],
   "source": [
    "text = 'abc'\n",
    "\n",
    "print(text[-3])\n",
    "print(text[-2])\n",
    "print(text[-1])"
   ]
  },
  {
   "cell_type": "markdown",
   "metadata": {},
   "source": [
    "## 2. 슬라이스\n",
    "\n",
    "문자의 인덱스를 활용하여 문자 중 원하는 구간만 출력하도록 문자열 슬라이스를 실습해보겠습니다. <br>\n",
    "text 변수에 ‘abcd fgh ijk’가 들어있습니다. 문자열에서는 공백도 하나의 문자로 취급하기 때문에 아래의 표와 같이 인덱스 번호가 부여됩니다. \n",
    "\n",
    "<br>\n",
    "\n",
    "<img src=\"./image/02_문자열.PNG\"/>  <br>\n",
    "<br>"
   ]
  },
  {
   "cell_type": "markdown",
   "metadata": {},
   "source": [
    "대괄호[]에 콜론(:)을 사용해 2개의 숫자를 구분합니다. <br>\n",
    "\n",
    "첫 번째 숫자는 문자열 슬라이싱을 시작하는 값으로 text[2:5]에서는 2번 칸의 값 c에서 시작하게 됩니다. <br>\n",
    "두 번째 숫자는 슬라이싱을 끝내는 값입니다. 하지만 end-1의 값이 적용이 되기 때문에 text[2:5]에서 5번 칸의 값으로 끝나는 것이 아닌 4번 칸까지의 값이 반환됩니다. <br>\n",
    "때문에 text[2:5]의 결과는 c에서부터 e까지 ‘cde’가 출력됩니다. \n",
    "<br>\n",
    "\n",
    "text[-5:-1]를 실행하였을 때 –5 위치에 있는 h부터 시작하여 –1 위치의 한 칸 앞에 있는 j까지 슬라이싱 되어 ‘h ij’ 문자가 출력됩니다."
   ]
  },
  {
   "cell_type": "code",
   "execution_count": 4,
   "metadata": {},
   "outputs": [
    {
     "name": "stdout",
     "output_type": "stream",
     "text": [
      "cde\n",
      "bcde fg\n",
      "h ij\n"
     ]
    }
   ],
   "source": [
    "# 슬라이싱\n",
    "text = 'abcde fgh ijk'\n",
    "\n",
    "print(text[2:5])    # cde\n",
    "print(text[1:8])    # bcde fg\n",
    "print(text[-5:-1])  # h ij"
   ]
  },
  {
   "cell_type": "markdown",
   "metadata": {},
   "source": [
    "2개의 숫자 중 첫 번째 숫자를 생략하면 생략한 값을 0으로 취급합니다. <br>\n",
    "때문에 text[:5]는 text[0:5]과 같으며 가장 처음 문자부터 4번 문자까지 ‘abcde’가 출력됩니다. <br>\n",
    "만약 text[5:]와 같이 두 번째 숫자를 생략한다면 두 번째 값은 문자의 가장 마지막 값까지 반환합니다.<br>\n",
    "그래서 print(text[5:]) 를 실행했을 때에는 ‘ fgh ijk’가 출력됩니다.\n",
    "<br>\n",
    "\n",
    "두 개의 숫자를 모두 생략할 수도 있습니다. <br>\n",
    "text[:]와 같이 시작 값과 마지막 값을 모두 생략하였을 때에는 원래 text에 들어있던 'abcde fgh ijk’가 그대로 출력됩니다. <br>"
   ]
  },
  {
   "cell_type": "code",
   "execution_count": 5,
   "metadata": {},
   "outputs": [
    {
     "name": "stdout",
     "output_type": "stream",
     "text": [
      "abcde\n",
      " fgh ijk\n",
      "abcde fgh ijk\n"
     ]
    }
   ],
   "source": [
    "# 슬라이싱(숫자 생략)\n",
    "text = 'abcde fgh ijk'\n",
    "\n",
    "print(text[:5])    # abcde\n",
    "print(text[5:])    #  fgh ijk\n",
    "print(text[:])     # abcde fgh ijk"
   ]
  },
  {
   "cell_type": "markdown",
   "metadata": {},
   "source": [
    "숫자가 3개가 사용할 때 첫 번째, 두 번째 자리의 숫자의 역할은 그대로 시작 값과 끝나는 값을 결정합니다. <br>\n",
    "여기에 마지막 3번째 숫자는 문자를 추출 할 때 n개씩 건너뛰며 문자를 슬라이싱 합니다. <br>\n",
    "3번째 값이 생략되어 있을 때에는 1로 취급되어 한 글자씩 출력하게 되며 1이 아닌 경우에는 생략을 하지 않고 그 값을 적어주어야 합니다.\n",
    "<br>\n",
    "\n",
    "예제의 코드에서 text[0:8:2]는 0번 칸에서 시작하여 7번 칸까지 문자를 출력하는데 그 중 2개씩 값을 띄워서 모으게 됩니다. <br>\n",
    "따라서 출력의 결과는 ‘acef’가 되며, text[1:8:2]의 결과는 ‘bd g’가 됩니다. <br>"
   ]
  },
  {
   "cell_type": "code",
   "execution_count": 6,
   "metadata": {},
   "outputs": [
    {
     "name": "stdout",
     "output_type": "stream",
     "text": [
      "acef\n",
      "bd g\n"
     ]
    }
   ],
   "source": [
    "# 슬라이싱\n",
    "text = 'abcde fgh ijk'\n",
    "\n",
    "print(text[0:8:2])    #  acef\n",
    "print(text[1:8:2])    #  bd g"
   ]
  },
  {
   "cell_type": "markdown",
   "metadata": {},
   "source": [
    "## 3. 문자열 메소드"
   ]
  },
  {
   "cell_type": "markdown",
   "metadata": {},
   "source": [
    "### 대체 하기\n",
    "\n",
    "- `replace(a, b)`"
   ]
  },
  {
   "cell_type": "code",
   "execution_count": 7,
   "metadata": {},
   "outputs": [
    {
     "name": "stdout",
     "output_type": "stream",
     "text": [
      "abcde KBC KBC\n"
     ]
    }
   ],
   "source": [
    "# A를 K로 변경해서 출력\n",
    "text = 'abcde ABC ABC'\n",
    "print(text.replace('A','K'))"
   ]
  },
  {
   "cell_type": "markdown",
   "metadata": {},
   "source": [
    "### 자르기\n",
    "\n",
    "- `split(a)`"
   ]
  },
  {
   "cell_type": "code",
   "execution_count": 8,
   "metadata": {},
   "outputs": [
    {
     "name": "stdout",
     "output_type": "stream",
     "text": [
      "abcde\n",
      "A/B/C\n",
      "A.B.C\n"
     ]
    }
   ],
   "source": [
    "# 공백을 기준으로 자르기\n",
    "text = 'abcde A/B/C A.B.C'\n",
    "a,b,c = text.split()               # 공백을 기준으로 자른다.\n",
    "\n",
    "print(a)\n",
    "print(b)\n",
    "print(c)"
   ]
  },
  {
   "cell_type": "code",
   "execution_count": 9,
   "metadata": {},
   "outputs": [
    {
     "name": "stdout",
     "output_type": "stream",
     "text": [
      "abcde A/B/C A\n",
      "B\n",
      "C\n"
     ]
    }
   ],
   "source": [
    "text = 'abcde A/B/C A.B.C'\n",
    "a,b,c = text.split('.')            # .을 기준으로 자른다.\n",
    "\n",
    "print(a)\n",
    "print(b)\n",
    "print(c)"
   ]
  },
  {
   "cell_type": "markdown",
   "metadata": {},
   "source": [
    "### 합치기\n",
    "\n",
    "- `join()`"
   ]
  },
  {
   "cell_type": "code",
   "execution_count": 10,
   "metadata": {},
   "outputs": [
    {
     "name": "stdout",
     "output_type": "stream",
     "text": [
      "a,b,c,d,e\n"
     ]
    }
   ],
   "source": [
    "text = 'abcde'         # 'abcde' 문자열 사이에 ,를 추가\n",
    "print(','.join(text))"
   ]
  },
  {
   "cell_type": "markdown",
   "metadata": {},
   "source": [
    "### 개수확인\n",
    "\n",
    "- `count(a)`"
   ]
  },
  {
   "cell_type": "code",
   "execution_count": 11,
   "metadata": {},
   "outputs": [
    {
     "name": "stdout",
     "output_type": "stream",
     "text": [
      "1\n",
      "2\n",
      "0\n"
     ]
    }
   ],
   "source": [
    "text = 'abcde ABC ABC'\n",
    "print(text.count('a'))       # 소문자 a가 몇 개 있는가?\n",
    "print(text.count('A'))       # 대문자 A가 몇 개 있는가?\n",
    "print(text.count('1'))       # 숫자 문자 1이 몇 개 있는가?"
   ]
  },
  {
   "cell_type": "markdown",
   "metadata": {},
   "source": [
    "### 제거하기\n",
    "\n",
    "- `strip(a)`"
   ]
  },
  {
   "cell_type": "code",
   "execution_count": 12,
   "metadata": {},
   "outputs": [
    {
     "name": "stdout",
     "output_type": "stream",
     "text": [
      "abcde\n",
      "abcde  \n",
      "  abcde\n"
     ]
    }
   ],
   "source": [
    "text = '  abcde  '\n",
    "print(text.strip())     # 양쪽의 공백제거\n",
    "print(text.lstrip())    # 왼쪽의 공백제거\n",
    "print(text.rstrip())    # 오른쪽의 공백제거"
   ]
  },
  {
   "cell_type": "markdown",
   "metadata": {},
   "source": [
    "### 인덱스 찾기\n",
    "\n",
    "- `find(a)`"
   ]
  },
  {
   "cell_type": "code",
   "execution_count": 13,
   "metadata": {},
   "outputs": [
    {
     "name": "stdout",
     "output_type": "stream",
     "text": [
      "2\n",
      "6\n",
      "2\n",
      "6\n"
     ]
    }
   ],
   "source": [
    "text = 'ABC ABC'\n",
    "print(text.find('C'))   # 왼쪽에서 부터 해당 문자열의 인덱스를 가져온다\n",
    "print(text.rfind('C'))  # 오른쪽에서 부터 해당 문자열의 인덱스를 가져온다\n",
    "print(text.index('C'))  # 왼쪽에서 부터 해당 문자열의 인덱스를 가져온다\n",
    "print(text.rindex('C')) # 오른쪽에서 부터 해당 문자열의 인덱스를 가져온다"
   ]
  },
  {
   "cell_type": "markdown",
   "metadata": {},
   "source": [
    "### 확인하기\n",
    "\n",
    "- `isalpha()` : 알파벳으로 이루어졌는가?"
   ]
  },
  {
   "cell_type": "code",
   "execution_count": 14,
   "metadata": {},
   "outputs": [
    {
     "name": "stdout",
     "output_type": "stream",
     "text": [
      "True\n"
     ]
    }
   ],
   "source": [
    "text = 'ABCabc'\n",
    "print(text.isalpha())     # 알파벳으로만 이루어졌는가?"
   ]
  },
  {
   "cell_type": "markdown",
   "metadata": {},
   "source": [
    "- `isdigit()` : 숫자 문자열로만 이루어졌는가?"
   ]
  },
  {
   "cell_type": "code",
   "execution_count": 15,
   "metadata": {},
   "outputs": [
    {
     "name": "stdout",
     "output_type": "stream",
     "text": [
      "True\n"
     ]
    }
   ],
   "source": [
    "text = '123'\n",
    "print(text.isdigit())     # 숫자문자열로만 이루어졌는가?"
   ]
  },
  {
   "cell_type": "markdown",
   "metadata": {},
   "source": [
    "- `isupper()` : 대문자로 이루어졌는가?"
   ]
  },
  {
   "cell_type": "code",
   "execution_count": 16,
   "metadata": {},
   "outputs": [
    {
     "name": "stdout",
     "output_type": "stream",
     "text": [
      "True\n"
     ]
    }
   ],
   "source": [
    "text = 'ABC'\n",
    "print(text.isupper())     # 대문자인가?"
   ]
  },
  {
   "cell_type": "markdown",
   "metadata": {},
   "source": [
    "- `islower()` : 소문자로 이루어졌는가?"
   ]
  },
  {
   "cell_type": "code",
   "execution_count": 17,
   "metadata": {},
   "outputs": [
    {
     "name": "stdout",
     "output_type": "stream",
     "text": [
      "True\n"
     ]
    }
   ],
   "source": [
    "text = 'abc'\n",
    "print(text.islower())     # 소문자인가"
   ]
  },
  {
   "cell_type": "markdown",
   "metadata": {},
   "source": [
    "### 대문자 만들기\n",
    "\n",
    "- `upper()` : 대문자로 변경"
   ]
  },
  {
   "cell_type": "code",
   "execution_count": 18,
   "metadata": {},
   "outputs": [
    {
     "name": "stdout",
     "output_type": "stream",
     "text": [
      "ABCABC\n"
     ]
    }
   ],
   "source": [
    "text = 'ABCabc'\n",
    "\n",
    "print(text.upper())   # 문자열을 모두 대문자로 변경"
   ]
  },
  {
   "cell_type": "markdown",
   "metadata": {},
   "source": [
    "### 소문자 만들기\n",
    "\n",
    "- `lower()` : 소문자로 변경"
   ]
  },
  {
   "cell_type": "code",
   "execution_count": 19,
   "metadata": {},
   "outputs": [
    {
     "name": "stdout",
     "output_type": "stream",
     "text": [
      "abcabc\n"
     ]
    }
   ],
   "source": [
    "text = 'ABCabc'\n",
    "\n",
    "print(text.lower())   # 문자열을 모두 소문자로 변경"
   ]
  },
  {
   "cell_type": "markdown",
   "metadata": {},
   "source": [
    "## 4. 반복"
   ]
  },
  {
   "cell_type": "code",
   "execution_count": 21,
   "metadata": {},
   "outputs": [
    {
     "name": "stdout",
     "output_type": "stream",
     "text": [
      "A B C a b c "
     ]
    }
   ],
   "source": [
    "text = 'ABCabc'\n",
    "\n",
    "for i in text:\n",
    "    print(i, end=' ')"
   ]
  },
  {
   "cell_type": "code",
   "execution_count": 22,
   "metadata": {},
   "outputs": [
    {
     "name": "stdout",
     "output_type": "stream",
     "text": [
      "A B C a b c "
     ]
    }
   ],
   "source": [
    "text = 'ABCabc'\n",
    "\n",
    "for i in range(0, len(text), 1):\n",
    "    print(text[i], end=' ')"
   ]
  }
 ],
 "metadata": {
  "kernelspec": {
   "display_name": "venv",
   "language": "python",
   "name": "python3"
  },
  "language_info": {
   "codemirror_mode": {
    "name": "ipython",
    "version": 3
   },
   "file_extension": ".py",
   "mimetype": "text/x-python",
   "name": "python",
   "nbconvert_exporter": "python",
   "pygments_lexer": "ipython3",
   "version": "3.11.9"
  }
 },
 "nbformat": 4,
 "nbformat_minor": 2
}

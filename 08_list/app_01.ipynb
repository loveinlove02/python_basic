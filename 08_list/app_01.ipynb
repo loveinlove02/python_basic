{
 "cells": [
  {
   "cell_type": "markdown",
   "metadata": {},
   "source": [
    "# **8. 리스트**\n",
    "\n",
    "5명의 학생의 영어점수를 저장하기 위해서는 그림 8-1과 같이 변수를 5개 만들어서 점수를 저장해야 합니다. <br>\n",
    "\n",
    "<br>\n",
    "\n",
    "<img src=\"./image/01_리스트.PNG\"/>  <br>\n",
    "<br>\n",
    "\n",
    "하지만 학생이 10명, 100명처럼 많아지게 되면 변수를 10개, 100개 만들기에는 불편한 것 같습니다. <br>\n",
    "이런 경우에는 리스트를 사용하면 편리합니다. 리스트는 여러 개의 데이터를 모아 놓고 처리할 수 있는 자료형입니다.\n",
    "<br>\n",
    "\n",
    "다음과 같이 5명의 점수를 [ ] (대괄호)를 사용해서 묶고 ‘,’ (쉼표)로 구분해서 리스트를 만듭니다.\n",
    "<br>\n",
    "\n",
    "### **리스트** ###\n",
    "`scoreList = [95, 100, 98, 87, 90]`\n",
    "<br>"
   ]
  },
  {
   "cell_type": "markdown",
   "metadata": {},
   "source": [
    "### **1) 빈 리스트 만들기**"
   ]
  },
  {
   "cell_type": "markdown",
   "metadata": {},
   "source": [
    "### **[] 대괄호 사용** ###\n",
    "`scoreList = []`\n",
    "<br>\n",
    "<br>\n",
    "\n",
    "### **`list()` 함수 사용** ###\n",
    "`scoreList = list()`\n",
    "<br>"
   ]
  },
  {
   "cell_type": "code",
   "execution_count": 1,
   "metadata": {},
   "outputs": [
    {
     "name": "stdout",
     "output_type": "stream",
     "text": [
      "[]\n",
      "[]\n"
     ]
    }
   ],
   "source": [
    "# 빈 리스트 만들기\n",
    "aList = []\n",
    "bList = list()\n",
    "\n",
    "print(aList)\n",
    "print(bList)"
   ]
  },
  {
   "cell_type": "markdown",
   "metadata": {},
   "source": [
    "### **2) 데이터가 있는 리스트 만들기**"
   ]
  },
  {
   "cell_type": "markdown",
   "metadata": {},
   "source": [
    "### **[] 대괄호 사용** ###\n",
    "`aList = [10, 20, 30, 40, 50]`\n",
    "<br>\n",
    "<br>\n",
    "\n",
    "### **`list()` 함수 사용** ###\n",
    "`bList = list('abc')`\n",
    "<br>"
   ]
  },
  {
   "cell_type": "code",
   "execution_count": 3,
   "metadata": {},
   "outputs": [
    {
     "name": "stdout",
     "output_type": "stream",
     "text": [
      "[10, 20, 30, 40, 50]\n",
      "['a', 'b', 'c']\n"
     ]
    }
   ],
   "source": [
    "aList = [10, 20, 30, 40, 50]\n",
    "bList = list('abc')\n",
    "\n",
    "print(aList)\n",
    "print(bList)"
   ]
  },
  {
   "cell_type": "markdown",
   "metadata": {},
   "source": [
    "### **3) 리스트 인덱스**"
   ]
  },
  {
   "cell_type": "markdown",
   "metadata": {},
   "source": [
    "\n",
    "<img src=\"./image/02_리스트.PNG\"/>  <br>\n",
    "<br>"
   ]
  },
  {
   "cell_type": "markdown",
   "metadata": {},
   "source": [
    "### **인덱스를 사용해서 접근하기** ###\n",
    "`engScore[0]     # 95`<br>\n",
    "`engScore[1]     # 100`<br>\n",
    "`engScore[-1]    # 90`<br>\n",
    "`engScore[-2]    # 87 `<br>\n",
    "<br>\n",
    "<br>\n",
    "\n",
    "### **슬라이스를 사용해서 접근하기** ###\n",
    "`ngScore[0:5:1]    # [95, 100, 98, 87, 90]`<br>\n",
    "`engScore[1:4:1]   # [100, 98, 87]`<br>\n",
    "`engScore[4:1:-1]  # [90, 87, 98]`<br>\n",
    "<br>"
   ]
  },
  {
   "cell_type": "code",
   "execution_count": 4,
   "metadata": {},
   "outputs": [
    {
     "name": "stdout",
     "output_type": "stream",
     "text": [
      "10\n",
      "blue\n",
      "[10, 1.23, 'apple', 100, 'banana', 'blue']\n",
      "[1.23, 'apple', 100, 'banana']\n",
      "['blue', 'banana', 100]\n"
     ]
    }
   ],
   "source": [
    "aList = [10, 1.23, 'apple', 100, 'banana', 'blue']\n",
    "\n",
    "print(aList[0])\n",
    "print(aList[-1])\n",
    "print(aList[0:6:1])\n",
    "print(aList[1:5:1])\n",
    "print(aList[5:2:-1])"
   ]
  },
  {
   "cell_type": "markdown",
   "metadata": {},
   "source": [
    "리스트는 데이터 변경이 가능한 자료형입니다."
   ]
  },
  {
   "cell_type": "code",
   "execution_count": 5,
   "metadata": {},
   "outputs": [
    {
     "name": "stdout",
     "output_type": "stream",
     "text": [
      "[10, 1.23, 'apple', 100, 'banana', 'blue']\n",
      "[100, 1.23, 'apple', 100, 'banana', 'blue']\n"
     ]
    }
   ],
   "source": [
    "# 리스트의 데이터 변경\n",
    "aList = [10, 1.23, 'apple', 100, 'banana', 'blue']\n",
    "print(aList)\n",
    "\n",
    "aList[0] = 100   # aList[0]의 10을 100으로 변경\n",
    "print(aList)"
   ]
  },
  {
   "cell_type": "code",
   "execution_count": 6,
   "metadata": {},
   "outputs": [
    {
     "name": "stdout",
     "output_type": "stream",
     "text": [
      "[10, 20, 30, 40, 50]\n",
      "[10, 100, 200, 40, 50]\n"
     ]
    }
   ],
   "source": [
    "aList = [10 , 20, 30, 40, 50]\n",
    "print(aList)\n",
    "\n",
    "aList[1:3] = [100, 200]    # aList[1:3] 구간에 리스트 [100, 200]를 넣는다.\n",
    "print(aList)"
   ]
  },
  {
   "cell_type": "code",
   "execution_count": 7,
   "metadata": {},
   "outputs": [
    {
     "name": "stdout",
     "output_type": "stream",
     "text": [
      "[10, 20, 30, 40, 50]\n",
      "[10, 'p', 'y', 't', 'h', 'o', 'n', 40, 50]\n"
     ]
    }
   ],
   "source": [
    "aList = [10 , 20, 30, 40, 50]\n",
    "print(aList)\n",
    "\n",
    "aList[1:3] = 'python'    # aList[1:3] 구간에 문자열 'python'을 넣는다.\n",
    "print(aList)"
   ]
  },
  {
   "cell_type": "markdown",
   "metadata": {},
   "source": [
    "### **4) 리스트에 함수 사용하기**"
   ]
  },
  {
   "cell_type": "markdown",
   "metadata": {},
   "source": [
    "리스트에는 다음의 내장함수를 적용할 수 있습니다.\n",
    "<br>"
   ]
  },
  {
   "cell_type": "markdown",
   "metadata": {},
   "source": [
    "<img src=\"./image/03_리스트.PNG\"/>  <br>\n",
    "<br>"
   ]
  },
  {
   "cell_type": "code",
   "execution_count": 9,
   "metadata": {},
   "outputs": [
    {
     "name": "stdout",
     "output_type": "stream",
     "text": [
      "데이터의 개수: 10\n",
      "가장 큰 데이터: 100\n",
      "가장 작은 데이터: 10\n",
      "합: 550\n"
     ]
    }
   ],
   "source": [
    "aList = [20, 10, 30, 90, 80, 70, 60, 100, 50, 40]\n",
    "\n",
    "print('데이터의 개수:', len(aList))\n",
    "print('가장 큰 데이터:', max(aList))\n",
    "print('가장 작은 데이터:', min(aList))\n",
    "print('합:', sum(aList))"
   ]
  },
  {
   "cell_type": "markdown",
   "metadata": {},
   "source": [
    "다음 예제는 리스트에 sorted() 함수를 사용한 예입니다.<br>\n",
    "sorted() 함수는 리스트를 오름차순으로 정렬해서 결과를 리스트로 반환합니다. <br>\n",
    "\n",
    "이때 원본 리스트는 변경되지 않습니다. <br>\n",
    "`sorted()` 함수에 두 번째 인자로 reverse=True를 넣으면 내림차순으로 정렬합니다. <br>"
   ]
  },
  {
   "cell_type": "code",
   "execution_count": 10,
   "metadata": {},
   "outputs": [
    {
     "name": "stdout",
     "output_type": "stream",
     "text": [
      "aList: [20, 10, 30, 90, 80, 70, 60, 100, 50, 40]\n",
      "bList: [10, 20, 30, 40, 50, 60, 70, 80, 90, 100]\n",
      "cList: [100, 90, 80, 70, 60, 50, 40, 30, 20, 10]\n"
     ]
    }
   ],
   "source": [
    "aList = [20, 10, 30, 90, 80, 70, 60, 100, 50, 40]\n",
    "bList = sorted(aList)\n",
    "cList = sorted(aList, reverse=True)\n",
    "\n",
    "print('aList:', aList)\n",
    "print('bList:', bList)\n",
    "print('cList:', cList)"
   ]
  },
  {
   "cell_type": "markdown",
   "metadata": {},
   "source": [
    "### **5) 리스트 메소드**"
   ]
  },
  {
   "cell_type": "markdown",
   "metadata": {},
   "source": [
    "#### **(1) 위치 찾기**"
   ]
  },
  {
   "cell_type": "markdown",
   "metadata": {},
   "source": [
    "index() 메소드는 인자로 넣은 데이터의 인덱스를 반환합니다.<br>\n",
    "<br>\n",
    "\n",
    "<img src=\"./image/04_리스트.PNG\"/>  <br>\n",
    "<br>"
   ]
  },
  {
   "cell_type": "code",
   "execution_count": 11,
   "metadata": {},
   "outputs": [
    {
     "name": "stdout",
     "output_type": "stream",
     "text": [
      "1\n"
     ]
    }
   ],
   "source": [
    "aList = [20, 10, 30, 10, 50]\n",
    "print(aList.index(10))        # 데이터 10이 가장 먼저 나오는 인덱스 반환"
   ]
  },
  {
   "cell_type": "markdown",
   "metadata": {},
   "source": [
    "#### **(2) 추가 하기**"
   ]
  },
  {
   "cell_type": "markdown",
   "metadata": {},
   "source": [
    "\n",
    "<img src=\"./image/05_리스트.PNG\"/>  <br>\n",
    "<br>"
   ]
  },
  {
   "cell_type": "code",
   "execution_count": 12,
   "metadata": {},
   "outputs": [
    {
     "name": "stdout",
     "output_type": "stream",
     "text": [
      "[20, 10, 30, 40, 50]\n"
     ]
    }
   ],
   "source": [
    "#  리스트의 맨 뒤에 데이터 넣기\n",
    "aList = [20, 10, 30]\n",
    "aList.append(40)\n",
    "aList.append(50)\n",
    "\n",
    "print(aList)               "
   ]
  },
  {
   "cell_type": "code",
   "execution_count": 13,
   "metadata": {},
   "outputs": [
    {
     "name": "stdout",
     "output_type": "stream",
     "text": [
      "[20, 10, 100, 30, 40, 50]\n"
     ]
    }
   ],
   "source": [
    "# 리스트의 원하는 위치에 데이터를 추가하기\n",
    "aList = [20, 10, 30, 40, 50]\n",
    "aList.insert(2, 100)\n",
    "\n",
    "print(aList)               "
   ]
  },
  {
   "cell_type": "markdown",
   "metadata": {},
   "source": [
    "#### **(3) 삭제 하기**"
   ]
  },
  {
   "cell_type": "markdown",
   "metadata": {},
   "source": [
    "`remove()` 메소드는 인자로 넣은 데이터를 리스트에서 삭제합니다.\n",
    "<br>\n",
    "\n",
    "<img src=\"./image/06_리스트.PNG\"/>  <br>\n",
    "<br>"
   ]
  },
  {
   "cell_type": "code",
   "execution_count": 15,
   "metadata": {},
   "outputs": [
    {
     "name": "stdout",
     "output_type": "stream",
     "text": [
      "[10, 30, 40, 50]\n"
     ]
    }
   ],
   "source": [
    "# 데이터 삭제하기\n",
    "aList = [10, 20, 30, 40, 50]\n",
    "aList.remove(20)               # 리스트에서 맨 처음에 있는 20을 삭제\n",
    "\n",
    "print(aList)"
   ]
  },
  {
   "cell_type": "code",
   "execution_count": 16,
   "metadata": {},
   "outputs": [
    {
     "name": "stdout",
     "output_type": "stream",
     "text": [
      "[10, 30, 40, 50]\n"
     ]
    }
   ],
   "source": [
    "# 데이터 삭제하기\n",
    "aList = [10, 20, 30, 40, 50]\n",
    "del aList[1]                   # 리스트에서 인덱스 1번에 있는 데이터를 삭제\n",
    "\n",
    "print(aList)"
   ]
  },
  {
   "cell_type": "markdown",
   "metadata": {},
   "source": [
    "#### **(4) 특정 항목의 개수**"
   ]
  },
  {
   "cell_type": "markdown",
   "metadata": {},
   "source": [
    "`count()` 메소드는 리스트에 있는 특정 데이터의 개수를 반환합니다.\n",
    "<br>\n",
    "\n",
    "<img src=\"./image/07_리스트.PNG\"/>  <br>\n",
    "<br>"
   ]
  },
  {
   "cell_type": "code",
   "execution_count": 17,
   "metadata": {},
   "outputs": [
    {
     "name": "stdout",
     "output_type": "stream",
     "text": [
      "3\n"
     ]
    }
   ],
   "source": [
    "#  데이터의 개수 세기\n",
    "aList = [10, 20, 20, 30, 20, 40, 50]         \n",
    "\n",
    "print(aList.count(20))        "
   ]
  },
  {
   "cell_type": "markdown",
   "metadata": {},
   "source": [
    "#### **(5) 정렬하기**"
   ]
  },
  {
   "cell_type": "markdown",
   "metadata": {},
   "source": [
    "`sort()` 메소드는 리스트를 정렬하는 메소드입니다. <br>\n",
    "`sorted()` 함수와는 달리 리스트 자체를 내부적으로 정렬합니다. 따라서 원본 리스트가 변경됩니다.\n",
    "<br>\n",
    "\n",
    "<img src=\"./image/08_리스트.PNG\"/>  <br>\n",
    "<br>"
   ]
  },
  {
   "cell_type": "code",
   "execution_count": 18,
   "metadata": {},
   "outputs": [
    {
     "name": "stdout",
     "output_type": "stream",
     "text": [
      "['a', 'b', 'c', 'd', 'e']\n",
      "[10, 20, 30, 40, 50]\n"
     ]
    }
   ],
   "source": [
    "aList = ['a', 'd' ,'e', 'c', 'b']         \n",
    "bList = [20, 10, 30, 50, 40]\n",
    "\n",
    "aList.sort()\n",
    "bList.sort()\n",
    "\n",
    "print(aList)\n",
    "print(bList)"
   ]
  },
  {
   "cell_type": "markdown",
   "metadata": {},
   "source": [
    "### **6) 반복문**"
   ]
  },
  {
   "cell_type": "code",
   "execution_count": 21,
   "metadata": {},
   "outputs": [
    {
     "name": "stdout",
     "output_type": "stream",
     "text": [
      "10\n",
      "20\n",
      "30\n",
      "40\n",
      "50\n"
     ]
    }
   ],
   "source": [
    "a = [10, 20, 30, 40, 50]\n",
    "\n",
    "for i in a:\n",
    "    print(i)"
   ]
  },
  {
   "cell_type": "code",
   "execution_count": 22,
   "metadata": {},
   "outputs": [
    {
     "name": "stdout",
     "output_type": "stream",
     "text": [
      "10\n",
      "20\n",
      "30\n",
      "40\n",
      "50\n"
     ]
    }
   ],
   "source": [
    "a = [10, 20, 30, 40, 50]\n",
    "\n",
    "for i in range(0, len(a), 1):\n",
    "    print(a[i])"
   ]
  }
 ],
 "metadata": {
  "kernelspec": {
   "display_name": "venv",
   "language": "python",
   "name": "python3"
  },
  "language_info": {
   "codemirror_mode": {
    "name": "ipython",
    "version": 3
   },
   "file_extension": ".py",
   "mimetype": "text/x-python",
   "name": "python",
   "nbconvert_exporter": "python",
   "pygments_lexer": "ipython3",
   "version": "3.11.9"
  }
 },
 "nbformat": 4,
 "nbformat_minor": 2
}
